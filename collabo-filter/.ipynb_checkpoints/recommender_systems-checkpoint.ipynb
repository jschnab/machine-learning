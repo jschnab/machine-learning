{
 "cells": [
  {
   "cell_type": "markdown",
   "metadata": {},
   "source": [
    "# Recommender systems\n",
    "In this notebook we will use a **collaborative filtering** algorithm and apply it on a movie rating dataset to recommend movies to users. Ratings are from 1 to 5. The dataset has $n_u = 943$ users and $n_m = 1682$ movies.\n",
    "\n",
    "## Movie rating dataset\n",
    "The dataset *ex8_movies.mat* contains the variables $Y$ and $R$. $Y$ is a matrix of size $n_m \\times n_u$ which stores the ratings $y^{(i,j}$ from 1 to 5. $R$ is a binary-valued indicator matrix where $R(i,j) = 1$ if user $j$ gave a rating to movie $i$ and $R(i,j) = 0$ otherwise. Let's compute the average rating for the first movie (Toy Story)."
   ]
  },
  {
   "cell_type": "code",
   "execution_count": 1,
   "metadata": {},
   "outputs": [],
   "source": [
    "import numpy as np\n",
    "from scipy.io import loadmat"
   ]
  },
  {
   "cell_type": "code",
   "execution_count": 71,
   "metadata": {},
   "outputs": [],
   "source": [
    "#load movie ratings\n",
    "data = loadmat(\"ex8_movies.mat\")\n",
    "Y = data['Y']\n",
    "R = data['R']\n",
    "\n",
    "#load movie names\n",
    "movies = np.empty((Y.shape[0]), dtype='object')\n",
    "with open(\"movie_ids.txt\") as movie_ids:\n",
    "    lines = movie_ids.readlines()\n",
    "    for index, line in enumerate(lines):\n",
    "        movies[index] = line.strip('\\n').split(sep=' ', maxsplit=1)[1]"
   ]
  },
  {
   "cell_type": "code",
   "execution_count": 73,
   "metadata": {},
   "outputs": [
    {
     "name": "stdout",
     "output_type": "stream",
     "text": [
      "Average rating Toy Story (1995): 3.9\n"
     ]
    }
   ],
   "source": [
    "#print average rating for first movie\n",
    "print(\"Average rating {0}: {1:.1f}\".format(movies[0], np.mean(Y[0, :][R[0, :] == 1])))"
   ]
  },
  {
   "cell_type": "markdown",
   "metadata": {},
   "source": [
    "We will also be working with matrices $X$ and $Theta$. The $i$-the row of $X$ corresponds to the feature vector $x^{(i)}$ for the $i$-th movie and the $j$-th row of $Theta$ corresponds to one parameter vector $\\theta^{(j)}$, for the $j$-th user. In this exercise we will use smaller versions of $X$ and $Theta$ so $x^{(i)} \\in R^{10}$ and $\\theta^{(j)} \\in R^{10}$. Correspondingly, $X$ is a $n_m \\times 10$ matrix and $Theta$ is a $n_u \\times 10$ matrix.\n"
   ]
  },
  {
   "cell_type": "code",
   "execution_count": 75,
   "metadata": {},
   "outputs": [],
   "source": [
    "params = loadmat(\"ex8_movieParams.mat\")\n",
    "X = params['X']\n",
    "Theta = params['Theta']"
   ]
  },
  {
   "cell_type": "markdown",
   "metadata": {},
   "source": [
    "## Collaborative filtering learning algorithm\n",
    "First, we will implement the cost function. The collaborative filtering learning algorithm considers a set of $n$-dimensional prameter vectors $x^{(1)}, ..., x^{(n_m)}$ and $\\theta^{(1)}, ..., \\theta^{(n_u)}$. The model predicts the rating for movie $i$ by user $j$ as $y^{(i,j} = (\\theta^{(j)})^T x^{(i)}$. Given a dataset that consists of ratings produced by users on movies, you wish to learn the parameter matrices $X$ and $Theta$ that produce the best fit, as measured by the squared error."
   ]
  },
  {
   "cell_type": "code",
   "execution_count": null,
   "metadata": {},
   "outputs": [],
   "source": [
    "#cost function\n",
    "def cofi_cost(X, Theta, Y, R, lamb):\n",
    "    "
   ]
  }
 ],
 "metadata": {
  "kernelspec": {
   "display_name": "Python 3",
   "language": "python",
   "name": "python3"
  },
  "language_info": {
   "codemirror_mode": {
    "name": "ipython",
    "version": 3
   },
   "file_extension": ".py",
   "mimetype": "text/x-python",
   "name": "python",
   "nbconvert_exporter": "python",
   "pygments_lexer": "ipython3",
   "version": "3.5.2"
  }
 },
 "nbformat": 4,
 "nbformat_minor": 2
}
