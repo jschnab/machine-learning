{
 "cells": [
  {
   "cell_type": "markdown",
   "metadata": {},
   "source": [
    "# Multiple linear regression\n",
    "## Introduction\n",
    "In this notebook I present a linear regression on five variables using gradient descent or the normal equation. The data come from a built-in data set of R called *state.x77* and containing socio-economic data for US states. The data are a bit old as they were collected during the 70s, but more recent data can be found on the website of the [United States Census Bureau](https://www.census.gov/en.html).\n",
    "## Data import and visualization\n",
    "First, let's load the modules we will need for this analysis. Pandas is useful to store data in a data frame, Numpy is used to carry out the computations, and Matplotlib will plot the data.\n",
    "I exported a *comma separated value* (csv) file from R, representing a subset of the original data set. This file contains only the variables we are interested in for now: per capita income, the percentage of illiteracy, the murder rate (per 100,000), the percentage of high school graduates and life expectancy.\n",
    "The data is imported in a Pandas DataFrame, then we plot variables in pairs to visually check for a correlation."
   ]
  },
  {
   "cell_type": "code",
   "execution_count": 2,
   "metadata": {},
   "outputs": [
    {
     "data": {
      "text/plain": [
       "<matplotlib.figure.Figure at 0x1d77ffab4e0>"
      ]
     },
     "metadata": {},
     "output_type": "display_data"
    }
   ],
   "source": [
    "import pandas as pd\n",
    "import numpy as np\n",
    "import matplotlib.pyplot as plt\n",
    "\n",
    "#import data from file\n",
    "data = pd.read_csv(\"state-x77-small.csv\")\n",
    "#remove the first column wich is an irrelevant index\n",
    "data = data[data.columns[1:]]\n",
    "\n",
    "#plot variables by pair, the first column is ignored as it contains state names\n",
    "ax = pd.plotting.scatter_matrix(data[1:])\n",
    "plt.show()"
   ]
  },
  {
   "cell_type": "markdown",
   "metadata": {},
   "source": [
    "The *scatter_matrix* function proposed by Pandas is a bit rough but it looks decent if not too many variables are plotted. Let's say we want to predict life expectancy (the target) from the other variables (the features). By eye, we can spot a correlation between our target, and the *high school graduates* and *murder* features. For the other features, the correlation seems less clear. We will perform a linear regression using multiple features, in order to predict the life expectancy. Let's first define the functions we need for this: the cost function used in the gradient descent, and the normal equation."
   ]
  },
  {
   "cell_type": "code",
   "execution_count": 3,
   "metadata": {},
   "outputs": [],
   "source": [
    "#definition of the cost function\n",
    "def cost(X, Y, theta):\n",
    "    \"\"\"Return the mean squared error based on input matrix X, output vector Y, and linear model\n",
    "    parameters theta\"\"\"\n",
    "    return np.sum((np.dot(X, theta) - Y) ** 2) / 2 / len(Y)\n",
    "\n",
    "def gradient_descent(X, Y, theta, alpha, n_iter):\n",
    "    \"\"\"Return learned parameters theta of linear model as calculated by gradient descent using\n",
    "    input matrix X, output matrix Y, initial parameters theta, learning rate alpha and\n",
    "    number of iteration n_iter\"\"\"\n",
    "    #define matrix to store cost history\n",
    "    cost_history = np.zeros(n_iter)\n",
    "    #loop for n_iter iterations to perform gradient descent\n",
    "    for i in range(n_iter):\n",
    "        delta = np.dot(X.T, (np.dot(X, theta) - Y)) / len(Y) #derivative of cost function\n",
    "        theta -= alpha * delta\n",
    "        cost_history[i] = cost(X, Y, theta)\n",
    "    return theta, cost_history\n",
    "\n",
    "def norm_eq(X, Y):\n",
    "    \"\"\"Return linear regression parameters theta for X and Y by using the normal equation.\"\"\"\n",
    "    return np.dot(np.dot(np.linalg.inv(np.dot(X.T, X)), X.T), Y)"
   ]
  },
  {
   "cell_type": "markdown",
   "metadata": {},
   "source": [
    "We first generate a matrix X containing all the input data. We have 50 states and 4 features so we have a 50 x 4 matrix. We do the same for the output (target) data and we obtain a 50 x 1 vector."
   ]
  },
  {
   "cell_type": "code",
   "execution_count": 4,
   "metadata": {},
   "outputs": [],
   "source": [
    "#generate input matrix (the features used for prediction)\n",
    "X = np.array(data[data.columns[1]][:, np.newaxis])\n",
    "for i in range(2, len(data.columns) - 1):\n",
    "    X = np.concatenate((X, data[data.columns[i]][:, np.newaxis]), axis=1)\n",
    "    \n",
    "#generate output vector (the variable we would like to predict)\n",
    "Y = np.array(data['Life Exp'][:, np.newaxis])"
   ]
  },
  {
   "cell_type": "markdown",
   "metadata": {},
   "source": [
    "## Gradient descent\n",
    "Let's have a look at the first few rows of data to have a sense of the scale of the data. You can also have a look at the axes on the pair-wise plot above."
   ]
  },
  {
   "cell_type": "code",
   "execution_count": 4,
   "metadata": {},
   "outputs": [
    {
     "data": {
      "text/html": [
       "<div>\n",
       "<style>\n",
       "    .dataframe thead tr:only-child th {\n",
       "        text-align: right;\n",
       "    }\n",
       "\n",
       "    .dataframe thead th {\n",
       "        text-align: left;\n",
       "    }\n",
       "\n",
       "    .dataframe tbody tr th {\n",
       "        vertical-align: top;\n",
       "    }\n",
       "</style>\n",
       "<table border=\"1\" class=\"dataframe\">\n",
       "  <thead>\n",
       "    <tr style=\"text-align: right;\">\n",
       "      <th></th>\n",
       "      <th>state</th>\n",
       "      <th>Income</th>\n",
       "      <th>Illiteracy</th>\n",
       "      <th>Murder</th>\n",
       "      <th>HS Grad</th>\n",
       "      <th>Life Exp</th>\n",
       "    </tr>\n",
       "  </thead>\n",
       "  <tbody>\n",
       "    <tr>\n",
       "      <th>0</th>\n",
       "      <td>Alabama</td>\n",
       "      <td>3624</td>\n",
       "      <td>2.1</td>\n",
       "      <td>15.1</td>\n",
       "      <td>41.3</td>\n",
       "      <td>69.05</td>\n",
       "    </tr>\n",
       "    <tr>\n",
       "      <th>1</th>\n",
       "      <td>Alaska</td>\n",
       "      <td>6315</td>\n",
       "      <td>1.5</td>\n",
       "      <td>11.3</td>\n",
       "      <td>66.7</td>\n",
       "      <td>69.31</td>\n",
       "    </tr>\n",
       "    <tr>\n",
       "      <th>2</th>\n",
       "      <td>Arizona</td>\n",
       "      <td>4530</td>\n",
       "      <td>1.8</td>\n",
       "      <td>7.8</td>\n",
       "      <td>58.1</td>\n",
       "      <td>70.55</td>\n",
       "    </tr>\n",
       "    <tr>\n",
       "      <th>3</th>\n",
       "      <td>Arkansas</td>\n",
       "      <td>3378</td>\n",
       "      <td>1.9</td>\n",
       "      <td>10.1</td>\n",
       "      <td>39.9</td>\n",
       "      <td>70.66</td>\n",
       "    </tr>\n",
       "    <tr>\n",
       "      <th>4</th>\n",
       "      <td>California</td>\n",
       "      <td>5114</td>\n",
       "      <td>1.1</td>\n",
       "      <td>10.3</td>\n",
       "      <td>62.6</td>\n",
       "      <td>71.71</td>\n",
       "    </tr>\n",
       "  </tbody>\n",
       "</table>\n",
       "</div>"
      ],
      "text/plain": [
       "        state  Income  Illiteracy  Murder  HS Grad  Life Exp\n",
       "0     Alabama    3624         2.1    15.1     41.3     69.05\n",
       "1      Alaska    6315         1.5    11.3     66.7     69.31\n",
       "2     Arizona    4530         1.8     7.8     58.1     70.55\n",
       "3    Arkansas    3378         1.9    10.1     39.9     70.66\n",
       "4  California    5114         1.1    10.3     62.6     71.71"
      ]
     },
     "execution_count": 4,
     "metadata": {},
     "output_type": "execute_result"
    }
   ],
   "source": [
    "data.head()"
   ]
  },
  {
   "cell_type": "markdown",
   "metadata": {},
   "source": [
    " The features span three orders of magnitude, so it makes sens to normalize the data by subtracting the mean and dividing by the standard deviation for each feature element. After normalization we can add a column filled with *1* to the input, to perform vectorized operations."
   ]
  },
  {
   "cell_type": "code",
   "execution_count": 5,
   "metadata": {},
   "outputs": [
    {
     "name": "stdout",
     "output_type": "stream",
     "text": [
      "[4.4358e+03 1.1700e+00 7.3780e+00 5.3108e+01]\n"
     ]
    }
   ],
   "source": [
    "#feature normalization\n",
    "mu = np.mean(X, axis=0) #rows are collapsed, hence axis=0\n",
    "print(mu)\n",
    "sigma = np.std(X, axis=0)\n",
    "X_norm = (X - mu) / sigma\n",
    "\n",
    "#add column of ones to X for vectorized operations\n",
    "X_norm = np.concatenate((np.ones((len(data), 1)), X_norm), axis=1)"
   ]
  },
  {
   "cell_type": "markdown",
   "metadata": {},
   "source": [
    "We are now ready to carry out gradient descent on our data. We initialize theta parameters at zero, we choose a number of iterations and we set the learning rate alpha. We record the history of the cost function results to check how well gradient descent is doing with our parameters. Before printing the results, we apply the normalization coefficients on theta so that theta has the same scale as the input."
   ]
  },
  {
   "cell_type": "code",
   "execution_count": 7,
   "metadata": {},
   "outputs": [
    {
     "name": "stdout",
     "output_type": "stream",
     "text": [
      "\n",
      "Calculated theta (gradient descent) :\n",
      "theta_0 (intercept) : 69.6508\n",
      "theta_1 (Income) : 0.0001\n",
      "theta_2 (Illiteracy) : 0.1947\n",
      "theta_3 (Murder) : -0.2526\n",
      "theta_4 (HS Grad) : 0.0441\n"
     ]
    }
   ],
   "source": [
    "#perform linear regression by gradient descent\n",
    "m = X_norm.shape[1] #number of columns of X_norm (number of features +1)\n",
    "theta = np.zeros((m, 1)) #initialize theta\n",
    "n_iter = 10000\n",
    "alpha = 0.001 #learning rate\n",
    "theta, history = gradient_descent(X_norm, Y, theta, alpha=alpha, n_iter=n_iter)\n",
    "\n",
    "#de-normalize theta\n",
    "mu_one = np.insert(mu, 0, -1)[:, np.newaxis] #insert -1 in first position so we later do subtraction using -sum()\n",
    "sigma_one = np.insert(sigma, 0, 1)[:, np.newaxis] #insert 1 in first position\n",
    "theta_denorm = theta\n",
    "theta_denorm[0] = -np.sum(theta * mu_one / sigma_one) #de-normalize intercept\n",
    "theta_denorm[1:] = theta_denorm[1:] / sigma_one[1:] #de-normalize other theta parameters\n",
    "\n",
    "#print results\n",
    "param_name = [\"intercept\"] + list(data.columns.values[1:])\n",
    "print(\"\\nCalculated theta (gradient descent) :\")\n",
    "for i in range(len(theta)):\n",
    "    print(\"theta_\",\n",
    "          i,\n",
    "          \" (\",\n",
    "          param_name[i],\n",
    "          \") : \",\n",
    "          format(theta[i].flat[0], '.4f'),\n",
    "          sep=\"\")"
   ]
  },
  {
   "cell_type": "markdown",
   "metadata": {},
   "source": [
    "The sign of the theta parameter associated with each feature is consistent with what we see on the pair-wise plot shown above, except for illiteracy. Now let's plot the history of the cost function results. The way the next piece of code is written can accomodate for different numbers of features in an automated way."
   ]
  },
  {
   "cell_type": "code",
   "execution_count": 8,
   "metadata": {},
   "outputs": [
    {
     "data": {
      "image/png": "[encoded data removed]",
      "text/plain": [
       "<matplotlib.figure.Figure at 0x1d7071827f0>"
      ]
     },
     "metadata": {},
     "output_type": "display_data"
    }
   ],
   "source": [
    "#plot cost history, each theta parameter on a subplots\n",
    "#with 3 columns\n",
    "cols = 3\n",
    "#determine the number of rows\n",
    "if len(theta) <= 6:\n",
    "    rows = 2\n",
    "elif len(facet_names) <= 9:\n",
    "    rows = 3\n",
    "else:\n",
    "    print(\"Too many parameters\")\n",
    "\n",
    "#generate values for x axis\n",
    "x_values = [i for i in range(n_iter)]\n",
    "\n",
    "#get colors for plot lines\n",
    "colors = plt.rcParams['axes.prop_cycle'].by_key()['color']\n",
    "\n",
    "#draw subplots\n",
    "fig, ax = plt.subplots(nrows=rows, ncols=cols)\n",
    "for i in range(len(theta)):\n",
    "    icol = i % 3\n",
    "    irow = i // 3\n",
    "    ax[irow, icol].plot(x_values, history, color=colors[i], label=\"theta_{}\".format(i))\n",
    "    ax[irow, icol].legend(handlelength=0., frameon=False)\n",
    "fig.text(0.5, 0.01, \"Iteration number\", ha=\"center\")\n",
    "fig.text(0.01, 0.5, \"Cost\", va=\"center\", rotation=\"vertical\")\n",
    "fig.text(0.5, 0.92, \"Cost history of linear regression for each theta parameter\", ha=\"center\", fontsize=12)\n",
    "\n",
    "#adjust distance between subplots\n",
    "plt.subplots_adjust(hspace=0.3, wspace=0.4)\n",
    "\n",
    "#delete unused subplots\n",
    "for i in range(rows*3 -len(theta)):\n",
    "        fig.delaxes(ax[-1,-(i+1)])\n",
    "        \n",
    "plt.show()"
   ]
  },
  {
   "cell_type": "markdown",
   "metadata": {},
   "source": [
    "The cost converges to a minimum during the chosen number of iterations for each theta parameter. Each convergence has the same shape, which is expected since the features were normalized before gradient descent.\n",
    "## Normal equation\n",
    "The normal equation calculates theta in a single step, which prevents us from having to choose a learning rate and going through many iterations during the gradients descent. Another benefit is that there is no need to normalize the data. However, if the sample size is large (> 10,000), calculation using the normal equation may be longer than gradient descent. We first have to add a column filled with *1* to X to take advantage of vectorized operations."
   ]
  },
  {
   "cell_type": "code",
   "execution_count": 9,
   "metadata": {},
   "outputs": [
    {
     "name": "stdout",
     "output_type": "stream",
     "text": [
      "\n",
      "Calculated theta (gradient descent) :\n",
      "theta_0 (intercept) : 69.4833\n",
      "theta_1 (Income) : 0.0001\n",
      "theta_2 (Illiteracy) : 0.2761\n",
      "theta_3 (Murder) : -0.2619\n",
      "theta_4 (HS Grad) : 0.0461\n"
     ]
    }
   ],
   "source": [
    "#add column of ones to X\n",
    "X_ones = np.concatenate((np.ones((len(data), 1)), X), axis=1)\n",
    "\n",
    "#calculate theta\n",
    "theta_norm = norm_eq(X_ones, Y)\n",
    "\n",
    "#print results\n",
    "print(\"\\nCalculated theta (gradient descent) :\")\n",
    "for i in range(len(theta_norm)):\n",
    "    print(\"theta_\",\n",
    "          i,\n",
    "          \" (\",\n",
    "          param_name[i],\n",
    "          \") : \",\n",
    "          format(theta_norm[i].flat[0], '.4f'),\n",
    "          sep=\"\")"
   ]
  },
  {
   "cell_type": "markdown",
   "metadata": {},
   "source": [
    "The results largely agree with what we obtained for the gradient descent."
   ]
  }
 ],
 "metadata": {
  "kernelspec": {
   "display_name": "Python 3",
   "language": "python",
   "name": "python3"
  },
  "language_info": {
   "codemirror_mode": {
    "name": "ipython",
    "version": 3
   },
   "file_extension": ".py",
   "mimetype": "text/x-python",
   "name": "python",
   "nbconvert_exporter": "python",
   "pygments_lexer": "ipython3",
   "version": "3.5.2"
  }
 },
 "nbformat": 4,
 "nbformat_minor": 2
}
