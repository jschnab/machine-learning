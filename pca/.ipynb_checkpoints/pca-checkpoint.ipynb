{
 "cells": [
  {
   "cell_type": "markdown",
   "metadata": {},
   "source": [
    "# Principal component analysis\n",
    "We will perform principal component analysis (PCA) to perform dimensionality reduction. First, we will implement PCA on a 2D dataset to visualize what is happening more easily.\n",
    "\n",
    "## PCA from 2D to 1D"
   ]
  },
  {
   "cell_type": "code",
   "execution_count": 2,
   "metadata": {},
   "outputs": [],
   "source": [
    "import numpy as np\n",
    "import pandas as pd\n",
    "import matplotlib.pyplot as plt\n",
    "import seaborn as sns\n",
    "sns.set()\n",
    "import scipy.io"
   ]
  },
  {
   "cell_type": "code",
   "execution_count": 11,
   "metadata": {},
   "outputs": [
    {
     "data": {
      "image/png": "[encoded data removed]",
      "text/plain": [
       "<Figure size 432x288 with 1 Axes>"
      ]
     },
     "metadata": {},
     "output_type": "display_data"
    }
   ],
   "source": [
    "#generation of a linearly correlated 2D dataset\n",
    "X = np.random.uniform(0, 10, 30)[:, np.newaxis]\n",
    "Y = np.array([i + 2 + np.random.randn() * 2 for i in X])\n",
    "data = np.hstack((X, Y))\n",
    "\n",
    "#plot dataset\n",
    "fig, ax = plt.subplots()\n",
    "ax.scatter(X, Y)\n",
    "ax.set_xlabel('X')\n",
    "ax.set_ylabel('Y')\n",
    "ax.set_xlim(min(X) - 0.5, max(X) + 0.5)\n",
    "ax.set_ylim(min(Y) - 0.5, max(Y) + 0.5)\n",
    "plt.show()"
   ]
  },
  {
   "cell_type": "markdown",
   "metadata": {},
   "source": [
    "PCA has two main computational steps. First, we calculate the **covariance matrix** of the data. Second, we calculate the **eigenvectors** $U_1, U_2, ... , U_n$, which correspond to the principal components of the variation in the data. It is important to **normalize and scale** the data by subtracting the mean and dividing by the standard deviation so each dimension is in the same range."
   ]
  },
  {
   "cell_type": "code",
   "execution_count": 21,
   "metadata": {},
   "outputs": [],
   "source": [
    "#data normalization\n",
    "data_norm = (data - np.mean(data, axis=0)) / np.std(data, axis=0)"
   ]
  },
  {
   "cell_type": "markdown",
   "metadata": {},
   "source": [
    "After data normalization we calculate the **covariance matrix** of the data:\n",
    "$$\\Sigma = \\frac{1}{m}X^{T}X$$\n",
    "where X is the data matrix with examples in rows and $m$ is the number of examples. $\\Sigma$ is a $n \\times n$ matrix and not the summation operator."
   ]
  },
  {
   "cell_type": "code",
   "execution_count": 40,
   "metadata": {},
   "outputs": [],
   "source": [
    "#covariance matrix\n",
    "Sigma = np.dot(data_norm.T, data_norm) / data_norm.shape[0]"
   ]
  },
  {
   "cell_type": "markdown",
   "metadata": {},
   "source": [
    "We can now run the **singular value decomposition** (svd) on the covariance matrix to calculate the principal components."
   ]
  },
  {
   "cell_type": "code",
   "execution_count": 41,
   "metadata": {},
   "outputs": [
    {
     "data": {
      "text/plain": [
       "(array([[-0.70710678, -0.70710678],\n",
       "        [-0.70710678,  0.70710678]]),\n",
       " array([1.87077527, 0.12922473]),\n",
       " array([[-0.70710678, -0.70710678],\n",
       "        [-0.70710678,  0.70710678]]))"
      ]
     },
     "execution_count": 41,
     "metadata": {},
     "output_type": "execute_result"
    }
   ],
   "source": [
    "#U are principal components vectors, S is the diagonal matrix\n",
    "U, S, V = np.linalg.svd(Sigma)"
   ]
  },
  {
   "cell_type": "markdown",
   "metadata": {},
   "source": [
    "We now draw the principal components centered at the mean of data."
   ]
  },
  {
   "cell_type": "code",
   "execution_count": 57,
   "metadata": {},
   "outputs": [
    {
     "data": {
      "image/png": "[encoded data removed]",
      "text/plain": [
       "<Figure size 432x288 with 1 Axes>"
      ]
     },
     "metadata": {},
     "output_type": "display_data"
    }
   ],
   "source": [
    "#position of principal components vectors\n",
    "mu = np.mean(data, axis=0)\n",
    "u0 = [[mu[0], (mu + 1.5 * np.dot(S[0], U[:, 0].T))[0]],\n",
    "       [mu[1], (mu + 1.5 * np.dot(S[0], U[:, 0].T))[1]]]\n",
    "u1 = [[mu[0], (mu + 1.5 * np.dot(S[1], U[:, 1].T))[0]],\n",
    "       [mu[1], (mu + 1.5 * np.dot(S[1], U[:, 1].T))[1]]]\n",
    "\n",
    "#plot data\n",
    "fig, ax = plt.subplots()\n",
    "ax.scatter(X, Y, label='data')\n",
    "ax.set_xlabel('X')\n",
    "ax.set_ylabel('Y')\n",
    "ax.set_xlim(min(X) - 0.5, max(X) + 0.5)\n",
    "ax.set_ylim(min(Y) - 0.5, max(Y) + 0.5)\n",
    "\n",
    "#plot principal components\n",
    "ax.plot(u0[0], u0[1], color='black', label='principal component 1')\n",
    "ax.plot(u1[0], u1[1], color='red', label='principal component 2')\n",
    "\n",
    "ax.legend()\n",
    "plt.show()"
   ]
  },
  {
   "cell_type": "markdown",
   "metadata": {},
   "source": []
  }
 ],
 "metadata": {
  "kernelspec": {
   "display_name": "Python 3",
   "language": "python",
   "name": "python3"
  },
  "language_info": {
   "codemirror_mode": {
    "name": "ipython",
    "version": 3
   },
   "file_extension": ".py",
   "mimetype": "text/x-python",
   "name": "python",
   "nbconvert_exporter": "python",
   "pygments_lexer": "ipython3",
   "version": "3.6.5"
  }
 },
 "nbformat": 4,
 "nbformat_minor": 2
}
