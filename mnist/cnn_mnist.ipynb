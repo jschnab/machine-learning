{
 "cells": [
  {
   "cell_type": "markdown",
   "metadata": {},
   "source": [
    "# Convoluted neural network to predict handwritten digits\n",
    "\n",
    "## 1. Introduction\n",
    "\n",
    "In this notebook I use a 5-layer sequential convoluted neural network for digits recognition trained on the  MNIST dataset. I use Keras with a Tensorflow backend."
   ]
  },
  {
   "cell_type": "code",
   "execution_count": 8,
   "metadata": {},
   "outputs": [
    {
     "name": "stdout",
     "output_type": "stream",
     "text": [
      "Keras version : 2.2.4 \n",
      "\n",
      "List of available devices :\n",
      " [name: \"/device:CPU:0\"\n",
      "device_type: \"CPU\"\n",
      "memory_limit: 268435456\n",
      "locality {\n",
      "}\n",
      "incarnation: 3535457405334307738\n",
      ", name: \"/device:GPU:0\"\n",
      "device_type: \"GPU\"\n",
      "memory_limit: 4957247897\n",
      "locality {\n",
      "  bus_id: 1\n",
      "  links {\n",
      "  }\n",
      "}\n",
      "incarnation: 1160660646156901785\n",
      "physical_device_desc: \"device: 0, name: GeForce GTX 1060 with Max-Q Design, pci bus id: 0000:01:00.0, compute capability: 6.1\"\n",
      "]\n"
     ]
    }
   ],
   "source": [
    "import keras\n",
    "print('Keras version :', keras.__version__, '\\n')\n",
    "\n",
    "#check Tensorflow recognizes GPU\n",
    "from tensorflow.python.client import device_lib\n",
    "print('List of available devices :\\n', device_lib.list_local_devices())\n",
    "\n",
    "import pandas as pd\n",
    "import numpy as np\n",
    "import matplotlib.pyplot as plt\n",
    "import matplotlib.image as mpimg\n",
    "import seaborn as sns\n",
    "\n",
    "np.random.seed(2)\n",
    "\n",
    "from sklearn.model_selection import train_test_split\n",
    "from sklearn.metrics import confusion_matrix\n",
    "\n",
    "import itertools\n",
    "import os"
   ]
  },
  {
   "cell_type": "markdown",
   "metadata": {},
   "source": [
    "## 2. Data preparation\n",
    "### 2.1 Load data"
   ]
  },
  {
   "cell_type": "code",
   "execution_count": 40,
   "metadata": {},
   "outputs": [],
   "source": [
    "#train is 42,000 x 785 and first column is label\n",
    "train = pd.read_csv('train.csv')\n",
    "Y = train['label']\n",
    "X = train.drop(labels=['label'], axis=1)\n",
    "del train #free some space\n",
    "\n",
    "#test is 28,000 x 784\n",
    "test = pd.read_csv('test.csv')"
   ]
  },
  {
   "cell_type": "code",
   "execution_count": 20,
   "metadata": {},
   "outputs": [
    {
     "data": {
      "image/png": "[encoded data removed]",
      "text/plain": [
       "<Figure size 432x288 with 1 Axes>"
      ]
     },
     "metadata": {
      "needs_background": "light"
     },
     "output_type": "display_data"
    }
   ],
   "source": [
    "g = sns.countplot(Y_train)"
   ]
  },
  {
   "cell_type": "markdown",
   "metadata": {},
   "source": [
    "### 2.2 Check for null and missing values\n",
    "I check for corrupted images, which would have missing values for one or more pixels. For the following instruction we expect to see only one unique value: False."
   ]
  },
  {
   "cell_type": "code",
   "execution_count": 41,
   "metadata": {},
   "outputs": [
    {
     "data": {
      "text/plain": [
       "count       784\n",
       "unique        1\n",
       "top       False\n",
       "freq        784\n",
       "dtype: object"
      ]
     },
     "execution_count": 41,
     "metadata": {},
     "output_type": "execute_result"
    }
   ],
   "source": [
    "X.isnull().any().describe()"
   ]
  },
  {
   "cell_type": "markdown",
   "metadata": {},
   "source": [
    "### 2.3 Normalization\n",
    "We perform a greyscale normalization to reduce the effect of differences in illumination. Moreover, the convoluted neural network will converge faster on data between 0 and 1 than on data between 0 and 255."
   ]
  },
  {
   "cell_type": "code",
   "execution_count": 42,
   "metadata": {},
   "outputs": [],
   "source": [
    "X_norm = X / 255\n",
    "test_norm = test / 255"
   ]
  },
  {
   "cell_type": "markdown",
   "metadata": {},
   "source": [
    "### 2.4 Reshape and label encoding\n",
    "Train and test images are 28 x 28 images stored in pandas dataframes as 1D vectors containing 784 values. I reshape the data as 28 x 28 x 1 3D matrices. The last dimension corresponds to a channel, since Keras requires this. The MNIST images are grey-scale images so I use only one channel. RGB images would have 3 channels, so 28 x 28 x 3. Finally, the images represent 10 digits from 0 to 9, and I encode the labels as one-hot vectors."
   ]
  },
  {
   "cell_type": "code",
   "execution_count": 43,
   "metadata": {},
   "outputs": [],
   "source": [
    "#reshape into numpy arrays\n",
    "X_rs = X_norm.values.reshape(-1, 28, 28, 1)\n",
    "test_rs = test_norm.values.reshape(-1, 28, 28, 1)\n",
    "\n",
    "#one-hot label encoding\n",
    "Y_hot = keras.utils.np_utils.to_categorical(Y, num_classes=10)"
   ]
  },
  {
   "cell_type": "markdown",
   "metadata": {},
   "source": [
    "### 2.5 Split data into training and cross-validation datasets\n",
    "We choose a cross-validation set size of 10 % of data, the rest is used to train the model. The labels all have similar frequencies so we do a random split. This may not be a good choice if the labels are heavily skewed since validation could be inaccurate. To prevent this from happening, I could use the option *stratify=True* in *train_test_split*. Let's also have a look at one image."
   ]
  },
  {
   "cell_type": "code",
   "execution_count": 46,
   "metadata": {},
   "outputs": [
    {
     "data": {
      "image/png": "[encoded data removed]",
      "text/plain": [
       "<Figure size 432x288 with 1 Axes>"
      ]
     },
     "metadata": {
      "needs_background": "light"
     },
     "output_type": "display_data"
    }
   ],
   "source": [
    "#split data\n",
    "X_train, X_cv, Y_train, Y_cv = train_test_split(X_rs, Y_hot, test_size=0.1)\n",
    "\n",
    "#show example\n",
    "g = plt.imshow(X_train[0][:, :, 0], cmap='Greys')"
   ]
  },
  {
   "cell_type": "markdown",
   "metadata": {},
   "source": [
    "## 3. A convoluted neural network model\n",
    "### 3.1 Model definition"
   ]
  },
  {
   "cell_type": "code",
   "execution_count": null,
   "metadata": {},
   "outputs": [],
   "source": []
  }
 ],
 "metadata": {
  "kernelspec": {
   "display_name": "Python 3",
   "language": "python",
   "name": "python3"
  },
  "language_info": {
   "codemirror_mode": {
    "name": "ipython",
    "version": 3
   },
   "file_extension": ".py",
   "mimetype": "text/x-python",
   "name": "python",
   "nbconvert_exporter": "python",
   "pygments_lexer": "ipython3",
   "version": "3.6.6"
  }
 },
 "nbformat": 4,
 "nbformat_minor": 2
}
